{
 "cells": [
  {
   "cell_type": "code",
   "execution_count": 3,
   "metadata": {},
   "outputs": [],
   "source": [
    "# Importar las bibliotecas necesarias\n",
    "import requests\n",
    "import yaml\n",
    "\n",
    "# Definir la URL base de la API\n",
    "BASE_URL = \"http://127.0.0.1:8000\"\n",
    "\n",
    "# Función para buscar por tabla\n",
    "def search_by_table(query):\n",
    "    response = requests.get(f\"{BASE_URL}/tablas/buscar_tablas\", params={\"query\": query})\n",
    "    if response.status_code == 200:\n",
    "        return response.json()\n",
    "    else:\n",
    "        print(f\"Error: {response.status_code}\")\n",
    "        print(response.json())\n",
    "\n",
    "# Función para buscar por atributo\n",
    "def search_by_attribute(query, table_filter=None):\n",
    "    params = {\"query\": query}\n",
    "    if table_filter:\n",
    "        params[\"table_filter\"] = table_filter\n",
    "    response = requests.get(f\"{BASE_URL}/tablas/buscar_atributo\", params=params)\n",
    "    if response.status_code == 200:\n",
    "        return response.json()\n",
    "    else:\n",
    "        print(f\"Error: {response.status_code}\")\n",
    "        print(response.json())\n",
    "\n",
    "# Función para obtener la especificación OpenAPI en YAML\n",
    "def get_openapi_yaml():\n",
    "    response = requests.get(f\"{BASE_URL}/openapi.yaml\")\n",
    "    if response.status_code == 200:\n",
    "        with open(\"openapi.yaml\", \"w\", encoding='utf-8') as f:\n",
    "            f.write(response.text)\n",
    "        return yaml.safe_load(response.text)\n",
    "    else:\n",
    "        print(f\"Error: {response.status_code}\")\n",
    "        print(response.json())\n"
   ]
  },
  {
   "cell_type": "code",
   "execution_count": 4,
   "metadata": {},
   "outputs": [
    {
     "name": "stdout",
     "output_type": "stream",
     "text": [
      "Prueba de búsqueda por tabla:\n",
      "{'tabla': 'RGAP10', 'descripcion': 'AAP - Bandeja Intermedia', 'atributos': [{'codigo': 'RGAP10APL', 'descripcion': 'Aplicación', 'tipo': 'Numeric(4.0)', 'clave': 'Y'}, {'codigo': 'RGAP10Prc', 'descripcion': 'Proceso', 'tipo': 'Character(10)', 'clave': 'N'}, {'codigo': 'RGAP10Fec', 'descripcion': 'Fecha de Creación', 'tipo': 'Date', 'clave': 'N'}, {'codigo': 'RGAP10Cor', 'descripcion': 'Correlativo', 'tipo': 'Numeric(9.0)', 'clave': 'Y'}, {'codigo': 'RGAP10Reg', 'descripcion': 'Número de Registro', 'tipo': 'Numeric(15.0)', 'clave': 'N'}, {'codigo': 'RGAP10Txt', 'descripcion': 'Texto', 'tipo': 'LongVarChar(8000)', 'clave': 'N'}], 'grupo': 'Vehículos'}\n"
     ]
    }
   ],
   "source": [
    "print(\"Prueba de búsqueda por tabla:\")\n",
    "tabla_result = search_by_table(\"RGAP10\")\n",
    "print(tabla_result)\n"
   ]
  },
  {
   "cell_type": "code",
   "execution_count": 7,
   "metadata": {},
   "outputs": [
    {
     "name": "stdout",
     "output_type": "stream",
     "text": [
      "\n",
      "Prueba de búsqueda por atributo:\n",
      "[{'tabla': 'RGAP10', 'atributo': {'codigo': 'RGAP10Txt', 'descripcion': 'Texto', 'tipo': 'LongVarChar(8000)', 'clave': 'N'}}]\n"
     ]
    }
   ],
   "source": [
    "print(\"\\nPrueba de búsqueda por atributo:\")\n",
    "atributo_result = search_by_attribute(\"RGAP10Txt\")\n",
    "print(atributo_result)\n"
   ]
  },
  {
   "cell_type": "code",
   "execution_count": 35,
   "metadata": {},
   "outputs": [
    {
     "name": "stdout",
     "output_type": "stream",
     "text": [
      "\n",
      "Obtener y guardar especificación OpenAPI en YAML:\n",
      "{'components': {'schemas': {'HTTPValidationError': {'properties': {'detail': {'items': {'$ref': '#/components/schemas/ValidationError'}, 'title': 'Detail', 'type': 'array'}}, 'title': 'HTTPValidationError', 'type': 'object'}, 'ValidationError': {'properties': {'loc': {'items': {'anyOf': [{'type': 'string'}, {'type': 'integer'}]}, 'title': 'Location', 'type': 'array'}, 'msg': {'title': 'Message', 'type': 'string'}, 'type': {'title': 'Error Type', 'type': 'string'}}, 'required': ['loc', 'msg', 'type'], 'title': 'ValidationError', 'type': 'object'}}}, 'info': {'description': 'Esta API permite buscar información en un archivo JSON de tablas y atributos.', 'title': 'API de Búsqueda de Tablas', 'version': '1.0.0'}, 'openapi': '3.0.3', 'paths': {'/openapi.yaml': {'get': {'description': 'Retorna la especificación OpenAPI en formato YAML.', 'operationId': 'get_openapi_yaml_openapi_yaml_get', 'responses': {'200': {'content': {'application/json': {'schema': {}}}, 'description': 'Successful Response'}}, 'summary': 'Obtener especificación OpenAPI en YAML'}}, '/search/by_attribute': {'get': {'description': 'Busca un atributo específico en el archivo JSON. Puede filtrar por tabla.', 'operationId': 'search_by_attribute_search_by_attribute_get', 'parameters': [{'description': 'String a buscar dentro de los códigos de los atributos', 'in': 'query', 'name': 'query', 'required': True, 'schema': {'description': 'String a buscar dentro de los códigos de los atributos', 'title': 'Query', 'type': 'string'}}, {'description': 'Opcional. Filtra los resultados de búsqueda solo para la tabla especificada', 'in': 'query', 'name': 'table_filter', 'required': False, 'schema': {'default': '', 'description': 'Opcional. Filtra los resultados de búsqueda solo para la tabla especificada', 'title': 'Table Filter', 'type': 'string'}}], 'responses': {'200': {'content': {'application/json': {'schema': {}}}, 'description': 'Successful Response'}, '422': {'content': {'application/json': {'schema': {'$ref': '#/components/schemas/HTTPValidationError'}}}, 'description': 'Validation Error'}}, 'summary': 'Buscar por Atributo'}}, '/search/by_table': {'get': {'description': 'Busca una tabla específica en el archivo JSON.', 'operationId': 'search_by_table_search_by_table_get', 'parameters': [{'description': 'String a buscar dentro de los nombres de las tablas', 'in': 'query', 'name': 'query', 'required': True, 'schema': {'description': 'String a buscar dentro de los nombres de las tablas', 'title': 'Query', 'type': 'string'}}], 'responses': {'200': {'content': {'application/json': {'schema': {}}}, 'description': 'Successful Response'}, '422': {'content': {'application/json': {'schema': {'$ref': '#/components/schemas/HTTPValidationError'}}}, 'description': 'Validation Error'}}, 'summary': 'Buscar por Tabla'}}, '/tables': {'get': {'description': 'Obtiene una lista de todas las tablas en el archivo JSON.', 'operationId': 'get_all_tables_tables_get', 'responses': {'200': {'content': {'application/json': {'schema': {}}}, 'description': 'Successful Response'}}, 'summary': 'Obtener todas las Tablas'}}}, 'servers': [{'description': 'Servidor local', 'url': 'https://127.0.0.1:8000'}, {'description': 'Servidor de producción', 'url': 'https://mi-servidor-produccion.com'}]}\n"
     ]
    }
   ],
   "source": [
    "print(\"\\nObtener y guardar especificación OpenAPI en YAML:\")\n",
    "openapi_spec = get_openapi_yaml()\n",
    "print(openapi_spec)"
   ]
  }
 ],
 "metadata": {
  "kernelspec": {
   "display_name": "proy",
   "language": "python",
   "name": "python3"
  },
  "language_info": {
   "codemirror_mode": {
    "name": "ipython",
    "version": 3
   },
   "file_extension": ".py",
   "mimetype": "text/x-python",
   "name": "python",
   "nbconvert_exporter": "python",
   "pygments_lexer": "ipython3",
   "version": "3.11.9"
  }
 },
 "nbformat": 4,
 "nbformat_minor": 2
}
